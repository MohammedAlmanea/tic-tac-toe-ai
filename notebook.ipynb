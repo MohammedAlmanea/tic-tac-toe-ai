{
 "cells": [
  {
   "cell_type": "markdown",
   "metadata": {},
   "source": [
    "# Introduction"
   ]
  },
  {
   "cell_type": "markdown",
   "metadata": {},
   "source": [
    "Adversarial Search is a problem in which two or more agent’s goals conflict,\n",
    "it is one of the most significant fields in AI and to solve this problem we are going to discus using Mini-Max and Alpha-Beta algorithms and we are going to implement them on the game tic-tac-toe.\n"
   ]
  },
  {
   "cell_type": "markdown",
   "metadata": {},
   "source": [
    "# Tic-Tac-Toe"
   ]
  },
  {
   "cell_type": "markdown",
   "metadata": {},
   "source": [
    "![tic-tac-toe](https://www.wikihow.com/images/thumb/1/15/Tic-Tac-Toe-Game.png/340px-Tic-Tac-Toe-Game.png)"
   ]
  },
  {
   "cell_type": "markdown",
   "metadata": {},
   "source": [
    "*\t**2** players\n",
    "\n",
    "*\t**X** and **O**\n",
    "\n",
    "*\tGrid size of the board is **3x3**\n",
    "\n",
    "*\tGoal: the goal is for a player to mark **three consecutive marks either horizontally, vertically or diagonally.**\n",
    "\n",
    "*   Rules: player 1 starts and place the **X** mark on one of the squares then player 2 place the **O** mark on one of the squares until either of them      \n",
    "achieve the goal or the board has no more squares to be filled in which the game would be a draw.\n"
   ]
  },
  {
   "cell_type": "markdown",
   "metadata": {},
   "source": [
    "# The upper bound of state space in tic-tac-toe:\n",
    "There are 3 states for each square and a total of 9 squares which mean that there are **3^9=19683** states including illegal states. \n"
   ]
  },
  {
   "cell_type": "markdown",
   "metadata": {},
   "source": [
    "# Mini-Max Algorithm"
   ]
  },
  {
   "cell_type": "markdown",
   "metadata": {},
   "source": [
    "As you have seen the state space for tic-tac-toe is 19683 possible states it is possible to brute force it and search for the perfect move each time with tic-tac-toe, but it would be inefficient however for nontrivial games that practice is impossible."
   ]
  },
  {
   "cell_type": "markdown",
   "metadata": {},
   "source": [
    "# What is Mini-Max algorithm:\n",
    "Mini-Max is an algorithm applies search to a low tree depth using the appropriate heuristic and simple evaluation function.\n",
    "The Min-Max algorithm evaluates the potential moves every turn and choosing what appears to be the best move each turn.\n",
    "Depth-first search Min-Max has **O(b^m)** time complexity and **O(b^m)** space complexity.\n",
    "#### Evaluation function:\n",
    "* **f(n)=1** means I’m winning in position n.\n",
    "* **f(n)=0** means that we are tied at position n. \n",
    "* **f(n)=-1** mean that you are winning at position n.\n",
    "\n"
   ]
  },
  {
   "cell_type": "markdown",
   "metadata": {},
   "source": [
    "#### Max implementation in Mini-Max"
   ]
  },
  {
   "cell_type": "code",
   "execution_count": 14,
   "metadata": {},
   "outputs": [],
   "source": [
    "def max(player):\n",
    "\n",
    "        # Possible values for maxValue are:\n",
    "        # -1 - loss\n",
    "        # 0  - a tie\n",
    "        # 1  - win\n",
    "\n",
    "        # We're initially setting it to -2 as worse than the worst case:\n",
    "        maxValue = -2\n",
    "\n",
    "        input_x = None\n",
    "        input_y = None\n",
    "\n",
    "        result = player.is_end()\n",
    "\n",
    "        # If the game came to an end, the function needs to return\n",
    "        # the evaluation function of the end. That can be:\n",
    "        # -1 - loss\n",
    "        # 0  - a tie\n",
    "        # 1  - win\n",
    "        if result == 'X':\n",
    "            return (-1, 0, 0)\n",
    "        elif result == 'O':\n",
    "            return (1, 0, 0)\n",
    "        elif result == '.':\n",
    "            return (0, 0, 0)\n",
    "\n",
    "        for i in range(0, 3):\n",
    "            for j in range(0, 3):\n",
    "                if player.current_state[i][j] == '.':\n",
    "                    # On the empty field player 'O' makes a move and calls Min\n",
    "                    # That's one branch of the game tree.\n",
    "                    player.current_state[i][j] = 'O'\n",
    "                    (m, min_i, min_j) = player.min()\n",
    "                    # Fixing the maxValue value if needed\n",
    "                    if m > maxValue:\n",
    "                        maxValue = m\n",
    "                        input_x = i\n",
    "                        input_y = j\n",
    "                    # Setting back the field to empty\n",
    "                    player.current_state[i][j] = '.'\n",
    "        return (maxValue, input_x, input_y)"
   ]
  },
  {
   "cell_type": "markdown",
   "metadata": {},
   "source": [
    "#### Min implementation in Mini-Max"
   ]
  },
  {
   "cell_type": "code",
   "execution_count": 15,
   "metadata": {},
   "outputs": [],
   "source": [
    "def min(player):\n",
    "\n",
    "        # Possible values for minValue are:\n",
    "        # -1 - win\n",
    "        # 0  - a tie\n",
    "        # 1  - loss\n",
    "\n",
    "        # We're initially setting it to 2 as worse than the worst case:\n",
    "        minValue = 2\n",
    "\n",
    "        algo_x = None\n",
    "        algo_y = None\n",
    "\n",
    "        result = player.is_end()\n",
    "\n",
    "        if result == 'X':\n",
    "            return (-1, 0, 0)\n",
    "        elif result == 'O':\n",
    "            return (1, 0, 0)\n",
    "        elif result == '.':\n",
    "            return (0, 0, 0)\n",
    "\n",
    "        for i in range(0, 3):\n",
    "            for j in range(0, 3):\n",
    "                if player.current_state[i][j] == '.':\n",
    "                    player.current_state[i][j] = 'X'\n",
    "                    (m, max_i, max_j) = player.max()\n",
    "                    if m < minValue:\n",
    "                        minValue = m\n",
    "                        algo_x = i\n",
    "                        algo_y = j\n",
    "                    player.current_state[i][j] = '.'\n",
    "        return (minValue, algo_x, algo_y)"
   ]
  },
  {
   "cell_type": "markdown",
   "metadata": {},
   "source": [
    "# Alpha-Beta Pruning"
   ]
  },
  {
   "cell_type": "markdown",
   "metadata": {},
   "source": [
    "Alpha-Beta is an improved Mini-Max it stops evaluating moves when it makes sure that it's worse than previously examined move it gives the same output as a Mini-Max algorithm but it cut’s off branches that can’t affect the final decision and therefore affect the performance dramatically."
   ]
  },
  {
   "cell_type": "markdown",
   "metadata": {},
   "source": [
    "* **𝛼 :** Represent best explored option for player Max.\n",
    "* **𝛽 :** Represent best explored option for player Min."
   ]
  },
  {
   "cell_type": "markdown",
   "metadata": {},
   "source": [
    "Initially **𝛼 = -∞** and **𝛽 = ∞** and each time a value bigger than **𝛼** appears **𝛼 = new** value and the opposite for **𝛽**."
   ]
  },
  {
   "cell_type": "markdown",
   "metadata": {},
   "source": [
    "We cutoff search if **α >= β** or **β <= α**."
   ]
  },
  {
   "cell_type": "markdown",
   "metadata": {},
   "source": [
    "#### Min implementation "
   ]
  },
  {
   "cell_type": "code",
   "execution_count": 16,
   "metadata": {},
   "outputs": [],
   "source": [
    "def min_alpha_beta(player, alpha, beta):\n",
    "\n",
    "        minValue = 2\n",
    "\n",
    "        algo_x = None\n",
    "        algo_y = None\n",
    "\n",
    "        result = player.is_end()\n",
    "\n",
    "        if result == 'X':\n",
    "            return (-1, 0, 0)\n",
    "        elif result == 'O':\n",
    "            return (1, 0, 0)\n",
    "        elif result == '.':\n",
    "            return (0, 0, 0)\n",
    "\n",
    "        for i in range(0, 3):\n",
    "            for j in range(0, 3):\n",
    "                if player.current_state[i][j] == '.':\n",
    "                    player.current_state[i][j] = 'X'\n",
    "                    (m, max_i, max_j) = player.max_alpha_beta(alpha, beta)\n",
    "                    if m < minValue:\n",
    "                        minValue = m\n",
    "                        algo_x = i\n",
    "                        algo_y = j\n",
    "                    player.current_state[i][j] = '.'\n",
    "\n",
    "                    if minValue <= alpha:\n",
    "                        return (minValue, algo_x, algo_y)\n",
    "\n",
    "                    if minValue < beta:\n",
    "                        beta = minValue\n",
    "        return (minValue, algo_x, algo_y)"
   ]
  },
  {
   "cell_type": "markdown",
   "metadata": {},
   "source": [
    " The only difference of min in Alpha-Beta is the if statements.\n",
    " \n",
    "It checks if min value <= Alpha value if true then cuts the remaining branches\n",
    "\n",
    "And if min value < Beta value it updates min value.\n",
    " "
   ]
  },
  {
   "cell_type": "markdown",
   "metadata": {},
   "source": [
    "#### Max implementation"
   ]
  },
  {
   "cell_type": "code",
   "execution_count": 17,
   "metadata": {},
   "outputs": [],
   "source": [
    "def max_alpha_beta(player, alpha, beta):\n",
    "        maxValue = -2\n",
    "        input_x = None\n",
    "        input_y = None\n",
    "\n",
    "        result = player.is_end()\n",
    "\n",
    "        if result == 'X':\n",
    "            return (-1, 0, 0)\n",
    "        elif result == 'O':\n",
    "            return (1, 0, 0)\n",
    "        elif result == '.':\n",
    "            return (0, 0, 0)\n",
    "\n",
    "        for i in range(0, 3):\n",
    "            for j in range(0, 3):\n",
    "                if player.current_state[i][j] == '.':\n",
    "                    player.current_state[i][j] = 'O'\n",
    "                    (m, min_i, in_j) = player.min_alpha_beta(alpha, beta)\n",
    "                    if m > maxValue:\n",
    "                        maxValue = m\n",
    "                        input_x = i\n",
    "                        input_y = j\n",
    "                    player.current_state[i][j] = '.'\n",
    "\n",
    "                    # Next two ifs in Max and Min are the only difference between regular algorithm and minimax\n",
    "                    if maxValue >= beta:\n",
    "                        return (maxValue, input_x, input_y)\n",
    "\n",
    "                    if maxValue > alpha:\n",
    "                        alpha = maxValue\n",
    "\n",
    "        return (maxValue, input_x, input_y)"
   ]
  },
  {
   "cell_type": "markdown",
   "metadata": {},
   "source": [
    "Same as the Min, the only difference is the if statements.\n",
    "\n",
    "It checks if max value >= Beta cuts the remaining branches\n",
    "\n",
    "And if max value > Alpha value it updates max value."
   ]
  },
  {
   "cell_type": "markdown",
   "metadata": {},
   "source": [
    "## visualization  \n",
    "\n",
    "In the website linked below we can create a tree and use MiniMax and Alpha-beta Pruning to solve the tree "
   ]
  },
  {
   "cell_type": "markdown",
   "metadata": {},
   "source": [
    "[Click_here](https://raphsilva.github.io/utilities/minimax_simulator/)"
   ]
  },
  {
   "cell_type": "markdown",
   "metadata": {},
   "source": [
    "# Testing the algorithms on tic-tac-toe"
   ]
  },
  {
   "cell_type": "markdown",
   "metadata": {},
   "source": [
    "We tested both MiniMax and Alpha-beta Pruning Algorithms on tic-tac-toe using the same game samples so we can compare the algorithms as best as we can"
   ]
  },
  {
   "cell_type": "markdown",
   "metadata": {},
   "source": [
    "### Starting first with MiniMax Algorithm"
   ]
  },
  {
   "cell_type": "markdown",
   "metadata": {},
   "source": [
    "We tested The game 10 time and the results are shown at the table bellow: "
   ]
  },
  {
   "cell_type": "markdown",
   "metadata": {},
   "source": [
    "| Tests   | Winner  | Depth| Time|\n",
    "|:--------|:--------|:---- |:----|\n",
    "| Test 1  | Tie     | 9    |4.998|\n",
    "| Test 2  | O       | 6    |4.178|\n",
    "| Test 3  | O       | 6    |4.395|\n",
    "| Test 4  | O       | 8    |4.827|\n",
    "| Test 5  | Tie     | 9    |4.961|\n",
    "| Test 6  | O       | 8    |4.12 |\n",
    "| Test 7  | Tie     | 9    |4.88 |\n",
    "| Test 8  | O       | 8    |4.70 |\n",
    "| Test 9  | O       | 6    |4.20 |\n",
    "| Test 10 | Tie     | 9    |4.76 |\n"
   ]
  },
  {
   "cell_type": "markdown",
   "metadata": {},
   "source": [
    "##### Average Time for MiniMax is **4.6019** seconds"
   ]
  },
  {
   "cell_type": "markdown",
   "metadata": {},
   "source": [
    "### Now it's time to test Alpha-Beta Pruning"
   ]
  },
  {
   "cell_type": "markdown",
   "metadata": {},
   "source": [
    "We tested the game with the same 10 game samples in MiniMax Test and the results are shown at the table bellow:"
   ]
  },
  {
   "cell_type": "markdown",
   "metadata": {},
   "source": [
    "| Tests   | Winner  | Depth| Time|\n",
    "|:--------|:--------|:---- |:----|\n",
    "| Test 1  | Tie     | 9    |0.214|\n",
    "| Test 2  | O       | 6    |0.198|\n",
    "| Test 3  | O       | 6    |0.184|\n",
    "| Test 4  | O       | 8    |0.199|\n",
    "| Test 5  | Tie     | 9    |0.198|\n",
    "| Test 6  | O       | 8    |0.202|\n",
    "| Test 7  | Tie     | 9    |0.205|\n",
    "| Test 8  | O       | 8    |0.185|\n",
    "| Test 9  | O       | 6    |0.202|\n",
    "| Test 10 | Tie     | 9    |0.210|\n"
   ]
  },
  {
   "cell_type": "markdown",
   "metadata": {},
   "source": [
    "##### Average Time for Alpha-Beta Pruning is **0.1997** seconds"
   ]
  },
  {
   "cell_type": "markdown",
   "metadata": {},
   "source": [
    "## Comparing Algorithms"
   ]
  },
  {
   "cell_type": "markdown",
   "metadata": {},
   "source": [
    "##### **Output**\n",
    "After testing we can see from the tables that at all tests the Winner is the same from MiniMax and Alpha-beta so both algorithms gives the same output"
   ]
  },
  {
   "cell_type": "markdown",
   "metadata": {},
   "source": [
    "##### **Depth**\n",
    "Also from the tests we can see that both algorithms stop at the same depth."
   ]
  },
  {
   "cell_type": "markdown",
   "metadata": {},
   "source": [
    "#### **Time**\n",
    "When it comes to time there is huge difference between the two algorithms."
   ]
  },
  {
   "cell_type": "markdown",
   "metadata": {},
   "source": [
    "As we can see from the table that the time of MiniMax Algorithm is much larger than Alpha-Beta Pruning"
   ]
  },
  {
   "cell_type": "markdown",
   "metadata": {},
   "source": [
    "The average time for MiniMax is **4.6019** and for Alpha-Beta its **0.1997** ! "
   ]
  },
  {
   "cell_type": "markdown",
   "metadata": {},
   "source": [
    "So in this case Alpha-Beta Pruning is **23x faster**"
   ]
  },
  {
   "cell_type": "markdown",
   "metadata": {},
   "source": [
    "## References and resources\n",
    "\n",
    "* https://www.wikihow.com/images/thumb/1/15/Tic-Tac-Toe-Game.png/340px-Tic-Tac-Toe-Game.png\n",
    "\n",
    "* https://jupyter-notebook.readthedocs.io/en/stable/\n",
    "\n",
    "* https://raphsilva.github.io/utilities/minimax_simulator/\n",
    "\n",
    "* https://www.youtube.com/watch?v=l-hh51ncgDI\n",
    "\n",
    "* https://en.wikipedia.org/wiki/Game_complexity"
   ]
  }
 ],
 "metadata": {
  "kernelspec": {
   "display_name": "Python 3 (ipykernel)",
   "language": "python",
   "name": "python3"
  },
  "language_info": {
   "codemirror_mode": {
    "name": "ipython",
    "version": 3
   },
   "file_extension": ".py",
   "mimetype": "text/x-python",
   "name": "python",
   "nbconvert_exporter": "python",
   "pygments_lexer": "ipython3",
   "version": "3.10.6"
  },
  "vscode": {
   "interpreter": {
    "hash": "916dbcbb3f70747c44a77c7bcd40155683ae19c65e1c03b4aa3499c5328201f1"
   }
  }
 },
 "nbformat": 4,
 "nbformat_minor": 2
}
